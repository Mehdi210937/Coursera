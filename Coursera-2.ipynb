{
 "cells": [
  {
   "cell_type": "code",
   "execution_count": null,
   "metadata": {},
   "outputs": [
    {
     "name": "stdout",
     "output_type": "stream",
     "text": [
      "Launches data saved successfully!\n",
      "Rockets data saved successfully!\n",
      "Launchpads data saved successfully!\n",
      "Company data saved successfully!\n",
      "Ships data saved successfully!\n",
      "Capsules data saved successfully!\n",
      "Payloads data saved successfully!\n"
     ]
    }
   ],
   "source": [
    "import requests\n",
    "import pandas as pd\n",
    "endpoints = {\n",
    "    \"launches\": \"launches\",\n",
    "    \"rockets\": \"rockets\",\n",
    "    \"launchpads\": \"launchpads\",\n",
    "    \"company\": \"company\",\n",
    "    \"ships\": \"ships\",\n",
    "    \"capsules\": \"capsules\",\n",
    "    \"payloads\": \"payloads\"\n",
    "}\n",
    "\n",
    "base_url = \"https://api.spacexdata.com/v4\"\n",
    "\n",
    "for key, endpoint in endpoints.items():\n",
    "    url = f\"{base_url}/{endpoint}\"\n",
    "    response = requests.get(url)\n",
    "\n",
    "    if response.status_code == 200:\n",
    "        data = response.json()\n",
    "\n",
    "        if isinstance(data, list):\n",
    "            df = pd.DataFrame(data)\n",
    "        else: \n",
    "            df = pd.DataFrame([data])\n",
    "\n",
    "        df.to_csv(f\"spacex_{key}.csv\", index=False)\n",
    "        print(f\"{key.capitalize()} data saved successfully!\")\n",
    "\n",
    "    else:\n",
    "        print(f\"Erreur avec {key}: {response.status_code}\")\n"
   ]
  }
 ],
 "metadata": {
  "kernelspec": {
   "display_name": "Python 3",
   "language": "python",
   "name": "python3"
  },
  "language_info": {
   "codemirror_mode": {
    "name": "ipython",
    "version": 3
   },
   "file_extension": ".py",
   "mimetype": "text/x-python",
   "name": "python",
   "nbconvert_exporter": "python",
   "pygments_lexer": "ipython3",
   "version": "3.12.8"
  }
 },
 "nbformat": 4,
 "nbformat_minor": 2
}
